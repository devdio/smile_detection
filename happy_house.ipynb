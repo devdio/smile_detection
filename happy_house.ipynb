{
 "cells": [
  {
   "cell_type": "code",
   "execution_count": 63,
   "metadata": {},
   "outputs": [],
   "source": [
    "import numpy as np\n",
    "import os, h5py\n",
    "import matplotlib.pyplot as plt\n",
    "plt.style.use('dark_background')\n",
    "from keras.preprocessing.image import ImageDataGenerator\n",
    "from keras.layers import Conv2D, Dense, Input, MaxPooling2D, Activation, LeakyReLU, Flatten, Dropout\n",
    "from keras.models import Model, Sequential, load_model\n",
    "from keras.callbacks import ModelCheckpoint, ReduceLROnPlateau\n",
    "from sklearn.metrics import accuracy_score, confusion_matrix\n",
    "import seaborn as sns"
   ]
  },
  {
   "cell_type": "code",
   "execution_count": 105,
   "metadata": {},
   "outputs": [
    {
     "name": "stdout",
     "output_type": "stream",
     "text": [
      "(600, 64, 64) (600, 1)\n",
      "(150, 64, 64) (150, 1)\n"
     ]
    },
    {
     "data": {
      "text/plain": [
       "<matplotlib.image.AxesImage at 0x18a374358>"
      ]
     },
     "execution_count": 105,
     "metadata": {},
     "output_type": "execute_result"
    },
    {
     "data": {
      "image/png": "[encoded data removed]",
      "text/plain": [
       "<Figure size 432x288 with 2 Axes>"
      ]
     },
     "metadata": {},
     "output_type": "display_data"
    }
   ],
   "source": [
    "base_path = 'dataset'\n",
    "\n",
    "x_train = np.load(os.path.join(base_path, 'x_train.npy'))\n",
    "y_train = np.load(os.path.join(base_path, 'y_train.npy'))\n",
    "x_test = np.load(os.path.join(base_path, 'x_test.npy'))\n",
    "y_test = np.load(os.path.join(base_path, 'y_test.npy'))\n",
    "\n",
    "print(x_train.shape, y_train.shape)\n",
    "print(x_test.shape, y_test.shape)\n",
    "\n",
    "plt.subplot(1, 2, 1)\n",
    "plt.title(y_train[0])\n",
    "plt.imshow(x_train[0], cmap='gray')\n",
    "plt.subplot(1, 2, 2)\n",
    "plt.title(y_train[1])\n",
    "plt.imshow(x_train[1], cmap='gray')"
   ]
  },
  {
   "cell_type": "code",
   "execution_count": 106,
   "metadata": {},
   "outputs": [],
   "source": [
    "x_train = x_train.reshape((-1, 64, 64, 1))\n",
    "x_test = x_test.reshape((-1, 64, 64, 1))\n",
    "\n",
    "train_datagen = ImageDataGenerator(\n",
    "    samplewise_center=True,\n",
    "    samplewise_std_normalization=True,\n",
    "    brightness_range=[0.5, 1.5],\n",
    "    zoom_range=[0.8, 1.1],\n",
    "    rotation_range=15.,\n",
    "    channel_shift_range=25,\n",
    "    horizontal_flip=True)\n",
    "\n",
    "test_datagen = ImageDataGenerator(\n",
    "    samplewise_center=True,\n",
    "    samplewise_std_normalization=True,\n",
    ")\n",
    "\n",
    "train_batch_gen = train_datagen.flow(x_train, y_train, batch_size=16, shuffle=True)\n",
    "test_batch_gen = test_datagen.flow(x_test, y_test, batch_size=16, shuffle=False)"
   ]
  },
  {
   "cell_type": "code",
   "execution_count": 107,
   "metadata": {
    "scrolled": true
   },
   "outputs": [
    {
     "name": "stdout",
     "output_type": "stream",
     "text": [
      "_________________________________________________________________\n",
      "Layer (type)                 Output Shape              Param #   \n",
      "=================================================================\n",
      "input_22 (InputLayer)        (None, 64, 64, 1)         0         \n",
      "_________________________________________________________________\n",
      "conv2d_56 (Conv2D)           (None, 32, 32, 64)        640       \n",
      "_________________________________________________________________\n",
      "leaky_re_lu_56 (LeakyReLU)   (None, 32, 32, 64)        0         \n",
      "_________________________________________________________________\n",
      "flatten_22 (Flatten)         (None, 65536)             0         \n",
      "_________________________________________________________________\n",
      "dense_43 (Dense)             (None, 64)                4194368   \n",
      "_________________________________________________________________\n",
      "activation_43 (Activation)   (None, 64)                0         \n",
      "_________________________________________________________________\n",
      "dense_44 (Dense)             (None, 1)                 65        \n",
      "_________________________________________________________________\n",
      "activation_44 (Activation)   (None, 1)                 0         \n",
      "=================================================================\n",
      "Total params: 4,195,073\n",
      "Trainable params: 4,195,073\n",
      "Non-trainable params: 0\n",
      "_________________________________________________________________\n"
     ]
    }
   ],
   "source": [
    "inputs = Input(shape=(64, 64, 1))\n",
    "\n",
    "net = Conv2D(filters=64, kernel_size=3, strides=2, padding='same')(inputs)\n",
    "net = LeakyReLU()(net)\n",
    "\n",
    "net = Flatten()(net)\n",
    "\n",
    "net = Dense(units=64)(net)\n",
    "net = Activation('relu')(net)\n",
    "\n",
    "net = Dense(units=1)(net)\n",
    "outputs = Activation('sigmoid')(net)\n",
    "\n",
    "model = Model(inputs=inputs, outputs=outputs)\n",
    "model.compile(optimizer='adam', loss='binary_crossentropy', metrics=['acc'])\n",
    "\n",
    "model.summary()"
   ]
  },
  {
   "cell_type": "code",
   "execution_count": 108,
   "metadata": {
    "scrolled": true
   },
   "outputs": [
    {
     "name": "stdout",
     "output_type": "stream",
     "text": [
      "Epoch 1/20\n",
      "38/38 [==============================] - 5s 132ms/step - loss: 0.9617 - acc: 0.6102 - val_loss: 0.6092 - val_acc: 0.6667\n",
      "\n",
      "Epoch 00001: val_acc improved from -inf to 0.66667, saving model to models/happy.h5\n",
      "Epoch 2/20\n",
      "38/38 [==============================] - 3s 88ms/step - loss: 0.5790 - acc: 0.6809 - val_loss: 0.5997 - val_acc: 0.6333\n",
      "\n",
      "Epoch 00002: val_acc did not improve from 0.66667\n",
      "Epoch 3/20\n",
      "38/38 [==============================] - 3s 85ms/step - loss: 0.5356 - acc: 0.7468 - val_loss: 0.5088 - val_acc: 0.7000\n",
      "\n",
      "Epoch 00003: val_acc improved from 0.66667 to 0.70000, saving model to models/happy.h5\n",
      "Epoch 4/20\n",
      "38/38 [==============================] - 3s 84ms/step - loss: 0.5402 - acc: 0.7187 - val_loss: 0.5543 - val_acc: 0.6933\n",
      "\n",
      "Epoch 00004: val_acc did not improve from 0.70000\n",
      "Epoch 5/20\n",
      "38/38 [==============================] - 3s 84ms/step - loss: 0.4948 - acc: 0.7599 - val_loss: 0.4883 - val_acc: 0.7333\n",
      "\n",
      "Epoch 00005: val_acc improved from 0.70000 to 0.73333, saving model to models/happy.h5\n",
      "Epoch 6/20\n",
      "38/38 [==============================] - 3s 83ms/step - loss: 0.4937 - acc: 0.7533 - val_loss: 0.4522 - val_acc: 0.7733\n",
      "\n",
      "Epoch 00006: val_acc improved from 0.73333 to 0.77333, saving model to models/happy.h5\n",
      "Epoch 7/20\n",
      "38/38 [==============================] - 3s 84ms/step - loss: 0.4696 - acc: 0.7730 - val_loss: 0.4563 - val_acc: 0.8133\n",
      "\n",
      "Epoch 00007: val_acc improved from 0.77333 to 0.81333, saving model to models/happy.h5\n",
      "Epoch 8/20\n",
      "38/38 [==============================] - 3s 86ms/step - loss: 0.4281 - acc: 0.7746 - val_loss: 0.3814 - val_acc: 0.8333\n",
      "\n",
      "Epoch 00008: val_acc improved from 0.81333 to 0.83333, saving model to models/happy.h5\n",
      "Epoch 9/20\n",
      "38/38 [==============================] - 3s 91ms/step - loss: 0.4021 - acc: 0.8158 - val_loss: 0.4104 - val_acc: 0.7800\n",
      "\n",
      "Epoch 00009: val_acc did not improve from 0.83333\n",
      "Epoch 10/20\n",
      "38/38 [==============================] - 3s 86ms/step - loss: 0.4210 - acc: 0.8043 - val_loss: 0.3717 - val_acc: 0.8533\n",
      "\n",
      "Epoch 00010: val_acc improved from 0.83333 to 0.85333, saving model to models/happy.h5\n",
      "Epoch 11/20\n",
      "38/38 [==============================] - 3s 85ms/step - loss: 0.3780 - acc: 0.8356 - val_loss: 0.4397 - val_acc: 0.8267\n",
      "\n",
      "Epoch 00011: val_acc did not improve from 0.85333\n",
      "Epoch 12/20\n",
      "38/38 [==============================] - 3s 86ms/step - loss: 0.3903 - acc: 0.8224 - val_loss: 0.4026 - val_acc: 0.8333\n",
      "\n",
      "Epoch 00012: val_acc did not improve from 0.85333\n",
      "Epoch 13/20\n",
      "38/38 [==============================] - 3s 86ms/step - loss: 0.3714 - acc: 0.8388 - val_loss: 0.3236 - val_acc: 0.8667\n",
      "\n",
      "Epoch 00013: val_acc improved from 0.85333 to 0.86667, saving model to models/happy.h5\n",
      "Epoch 14/20\n",
      "38/38 [==============================] - 3s 86ms/step - loss: 0.3872 - acc: 0.8159 - val_loss: 0.3275 - val_acc: 0.8667\n",
      "\n",
      "Epoch 00014: val_acc did not improve from 0.86667\n",
      "Epoch 15/20\n",
      "38/38 [==============================] - 3s 74ms/step - loss: 0.3661 - acc: 0.8438 - val_loss: 0.3211 - val_acc: 0.8733\n",
      "\n",
      "Epoch 00015: val_acc improved from 0.86667 to 0.87333, saving model to models/happy.h5\n",
      "Epoch 16/20\n",
      "38/38 [==============================] - 3s 75ms/step - loss: 0.3208 - acc: 0.8618 - val_loss: 0.2517 - val_acc: 0.9067\n",
      "\n",
      "Epoch 00016: val_acc improved from 0.87333 to 0.90667, saving model to models/happy.h5\n",
      "Epoch 17/20\n",
      "38/38 [==============================] - 3s 70ms/step - loss: 0.3518 - acc: 0.8503 - val_loss: 0.2792 - val_acc: 0.8667\n",
      "\n",
      "Epoch 00017: val_acc did not improve from 0.90667\n",
      "Epoch 18/20\n",
      "38/38 [==============================] - 3s 78ms/step - loss: 0.3237 - acc: 0.8718 - val_loss: 0.2563 - val_acc: 0.8933\n",
      "\n",
      "Epoch 00018: val_acc did not improve from 0.90667\n",
      "Epoch 19/20\n",
      "38/38 [==============================] - 3s 86ms/step - loss: 0.3053 - acc: 0.8701 - val_loss: 0.2511 - val_acc: 0.8933\n",
      "\n",
      "Epoch 00019: val_acc did not improve from 0.90667\n",
      "Epoch 20/20\n",
      "38/38 [==============================] - 3s 86ms/step - loss: 0.3162 - acc: 0.8734 - val_loss: 0.2147 - val_acc: 0.9133\n",
      "\n",
      "Epoch 00020: val_acc improved from 0.90667 to 0.91333, saving model to models/happy.h5\n"
     ]
    },
    {
     "data": {
      "text/plain": [
       "<keras.callbacks.History at 0x13e3d0cf8>"
      ]
     },
     "execution_count": 108,
     "metadata": {},
     "output_type": "execute_result"
    }
   ],
   "source": [
    "model.fit_generator(\n",
    "    train_batch_gen,\n",
    "    epochs=20,\n",
    "    validation_data=test_batch_gen,\n",
    "    callbacks=[\n",
    "        ModelCheckpoint('models/happy.h5', monitor='val_acc', save_best_only=True, mode='max', verbose=1),\n",
    "        ReduceLROnPlateau(monitor='val_acc', factor=0.2, patience=5, verbose=1, mode='auto', min_lr=1e-05)\n",
    "    ]\n",
    ")"
   ]
  },
  {
   "cell_type": "code",
   "execution_count": 109,
   "metadata": {},
   "outputs": [],
   "source": [
    "x_test_input = x_test.copy().astype(np.float64)\n",
    "x_test_input -= np.mean(x_test, keepdims=True)\n",
    "x_test_input /= (np.std(x_test, keepdims=True) + 1e-6)\n",
    "\n",
    "y_pred = model.predict(x_test_input)\n",
    "\n",
    "y_pred_logical = (y_pred > 0.5).astype(np.int)"
   ]
  },
  {
   "cell_type": "code",
   "execution_count": 110,
   "metadata": {},
   "outputs": [
    {
     "name": "stdout",
     "output_type": "stream",
     "text": [
      "test acc: 0.9\n"
     ]
    },
    {
     "data": {
      "text/plain": [
       "<matplotlib.axes._subplots.AxesSubplot at 0x1961c0f28>"
      ]
     },
     "execution_count": 110,
     "metadata": {},
     "output_type": "execute_result"
    },
    {
     "data": {
      "image/png": "[encoded data removed]",
      "text/plain": [
       "<Figure size 432x288 with 2 Axes>"
      ]
     },
     "metadata": {},
     "output_type": "display_data"
    }
   ],
   "source": [
    "print ('test acc: %s' % accuracy_score(y_test, y_pred_logical))\n",
    "\n",
    "cm = confusion_matrix(y_test, y_pred_logical)\n",
    "sns.heatmap(cm, annot=True)"
   ]
  },
  {
   "cell_type": "code",
   "execution_count": null,
   "metadata": {},
   "outputs": [],
   "source": []
  }
 ],
 "metadata": {
  "kernelspec": {
   "display_name": "p3",
   "language": "python",
   "name": "p3"
  },
  "language_info": {
   "codemirror_mode": {
    "name": "ipython",
    "version": 3
   },
   "file_extension": ".py",
   "mimetype": "text/x-python",
   "name": "python",
   "nbconvert_exporter": "python",
   "pygments_lexer": "ipython3",
   "version": "3.6.1"
  }
 },
 "nbformat": 4,
 "nbformat_minor": 2
}
